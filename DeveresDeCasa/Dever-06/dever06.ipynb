{
  "nbformat": 4,
  "nbformat_minor": 0,
  "metadata": {
    "colab": {
      "provenance": []
    },
    "kernelspec": {
      "name": "python3",
      "display_name": "Python 3"
    },
    "language_info": {
      "name": "python"
    }
  },
  "cells": [
    {
      "cell_type": "code",
      "execution_count": 2,
      "metadata": {
        "colab": {
          "base_uri": "https://localhost:8080/"
        },
        "id": "t3VCOheRiu6D",
        "outputId": "56f654e2-ef1f-4de8-b676-8e9a0c340c90"
      },
      "outputs": [
        {
          "output_type": "stream",
          "name": "stdout",
          "text": [
            "Digite as características da flor:\n",
            "Comprimento da sépala (cm): 30\n",
            "Largura da sépala (cm): 20\n",
            "Comprimento da pétala (cm): 50\n",
            "Largura da pétala (cm): 60\n",
            "A flor prevista é da espécie: virginica\n"
          ]
        }
      ],
      "source": [
        "from sklearn.datasets import load_iris\n",
        "from sklearn.model_selection import train_test_split\n",
        "from sklearn.neighbors import KNeighborsClassifier\n",
        "\n",
        "\n",
        "iris = load_iris()\n",
        "X = iris.data\n",
        "y = iris.target\n",
        "\n",
        "\n",
        "X_train, X_test, y_train, y_test = train_test_split(X, y, test_size=0.3, random_state=42)\n",
        "\n",
        "\n",
        "knn = KNeighborsClassifier(n_neighbors=3)\n",
        "knn.fit(X_train, y_train)\n",
        "\n",
        "\n",
        "print(\"Digite as características da flor:\")\n",
        "sepala_comprimento = float(input(\"Comprimento da sépala (cm): \"))\n",
        "sepala_largura = float(input(\"Largura da sépala (cm): \"))\n",
        "petala_comprimento = float(input(\"Comprimento da pétala (cm): \"))\n",
        "petala_largura = float(input(\"Largura da pétala (cm): \"))\n",
        "\n",
        "\n",
        "new_flower = [[sepala_comprimento, sepala_largura, petala_comprimento, petala_largura]]\n",
        "\n",
        "\n",
        "prediction = knn.predict(new_flower)\n",
        "\n",
        "# Mostra a espécie prevista\n",
        "species = iris.target_names[prediction[0]]\n",
        "print(f\"A flor prevista é da espécie: {species}\")"
      ]
    }
  ]
}