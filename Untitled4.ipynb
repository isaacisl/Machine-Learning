{
  "nbformat": 4,
  "nbformat_minor": 0,
  "metadata": {
    "colab": {
      "provenance": [],
      "toc_visible": true,
      "authorship_tag": "ABX9TyPRU5o22SU1c/sXglQJO6n/",
      "include_colab_link": true
    },
    "kernelspec": {
      "name": "python3",
      "display_name": "Python 3"
    },
    "language_info": {
      "name": "python"
    }
  },
  "cells": [
    {
      "cell_type": "markdown",
      "metadata": {
        "id": "view-in-github",
        "colab_type": "text"
      },
      "source": [
        "<a href=\"https://colab.research.google.com/github/isaacisl/Machine-Learning/blob/main/Untitled4.ipynb\" target=\"_parent\"><img src=\"https://colab.research.google.com/assets/colab-badge.svg\" alt=\"Open In Colab\"/></a>"
      ]
    },
    {
      "cell_type": "code",
      "execution_count": null,
      "metadata": {
        "id": "mf4O3Y47NSDB"
      },
      "outputs": [],
      "source": [
        "import csv\n",
        "\n",
        "# Dados a serem escritos no arquivo CSV\n",
        "dados = [\n",
        "    [\"Nome\", \"Idade\"],\n",
        "    [\"Lucas\", 18],\n",
        "    [\"Isaac\", 24],\n",
        "    [\"Gabriel\", 30],\n",
        "    [\"Victor\", 33],\n",
        "    [\"Julia\", 32]\n",
        "]\n",
        "\n",
        "# Caminho do arquivo CSV\n",
        "caminho_arquivo = \"dados.csv\"\n",
        "\n",
        "# Escrever os dados no arquivo CSV\n",
        "with open(caminho_arquivo, mode='w', newline='', encoding='utf-8') as file:\n",
        "    writer = csv.writer(file)\n",
        "    writer.writerows(dados)\n",
        "\n",
        "print(f\"O arquivo 'dados.csv' foi criado no diretório atual.\")\n"
      ]
    },
    {
      "cell_type": "code",
      "source": [
        "import csv\n",
        "\n",
        "# Função para ler o arquivo CSV e retornar os dados em uma lista\n",
        "def ler_arquivo_csv(caminho_arquivo):\n",
        "    dados = []\n",
        "    with open(caminho_arquivo, mode='r', newline='', encoding='utf-8') as file:\n",
        "        reader = csv.reader(file)\n",
        "        for row in reader:\n",
        "            dados.append(row)\n",
        "    return dados\n",
        "\n",
        "# Caminho do arquivo CSV\n",
        "caminho_arquivo = \"dados.csv\"\n",
        "\n",
        "# Ler os dados do arquivo\n",
        "dados = ler_arquivo_csv(caminho_arquivo)\n",
        "\n",
        "# Remover o cabeçalho da lista\n",
        "dados_sem_cabecalho = dados[1:]\n",
        "\n",
        "# Solicitar o nome ao usuário\n",
        "nome_digitado = input(\"Digite o nome: \").strip()\n",
        "\n",
        "# Procurar o nome na lista\n",
        "encontrado = False\n",
        "idade = None\n",
        "mais_velho = False\n",
        "idade_maxima = max([int(dado[1]) for dado in dados_sem_cabecalho])\n",
        "\n",
        "for dado in dados_sem_cabecalho:\n",
        "    if dado[0].lower() == nome_digitado.lower():\n",
        "        encontrado = True\n",
        "        idade = int(dado[1])\n",
        "        mais_velho = idade == idade_maxima\n",
        "        break\n",
        "\n",
        "# Exibir o resultado\n",
        "if encontrado:\n",
        "    print(f\"{nome_digitado} tem {idade} anos.\")\n",
        "    if mais_velho:\n",
        "        print(f\"{nome_digitado} é a pessoa mais velha da lista!\")\n",
        "    else:\n",
        "        print(f\"{nome_digitado} não é a pessoa mais velha da lista.\")\n",
        "else:\n",
        "    print(f\"{nome_digitado} não está na lista.\")\n"
      ],
      "metadata": {
        "id": "NuQBn5bINdYI"
      },
      "execution_count": null,
      "outputs": []
    }
  ]
}